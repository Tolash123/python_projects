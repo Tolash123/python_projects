{
 "cells": [
  {
   "cell_type": "markdown",
   "metadata": {},
   "source": [
    "# Fahrenheit To Celsius\n",
    "\n",
    "'''\n",
    "Most countries around the world use the Celsius scale to indicate temperatures, but the United States still uses the Fahrenheit scale.\n",
    "Calculating temperature conversion is simple. We have to convert the temperature because Celsius and Fahrenheit have different starting points; 0 degrees Celsius is 32 degrees Fahrenheit. So to convert Fahrenheit to degrees Celsius, we just need to subtract 32 from the temperature Fahrenheit.\n",
    "'''\n"
   ]
  },
  {
   "cell_type": "code",
   "execution_count": null,
   "metadata": {},
   "outputs": [],
   "source": [
    "def convert(s):\n",
    "    fahrenheit = float(s)\n",
    "    celsius = (fahrenheit - 32) * 5/9\n",
    "    return celsius\n",
    "\n",
    "print(convert(78))"
   ]
  }
 ],
 "metadata": {
  "language_info": {
   "name": "python"
  }
 },
 "nbformat": 4,
 "nbformat_minor": 2
}
