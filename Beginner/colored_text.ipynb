{
 "cells": [
  {
   "cell_type": "markdown",
   "metadata": {},
   "source": [
    "# Colored Text\n",
    "\n",
    "'''\n",
    "In Python the Colorama module allows us to easily create colored terminal text.\n",
    "'''"
   ]
  },
  {
   "cell_type": "code",
   "execution_count": null,
   "metadata": {},
   "outputs": [],
   "source": [
    "import colorama\n",
    "from colorama import Fore, Back, Style\n",
    "colorama.init(autoreset=True)\n",
    "\n",
    "print(Fore.BLUE+Back.YELLOW+\"Hi My name is Alade Idris Tolani \"+ Fore.YELLOW+ Back.BLUE+\"I am your Machine Learning Instructor\")\n",
    "print(Back.CYAN+\"Hi My name is Dristol\")\n",
    "print(Fore.RED + Back.GREEN+ \"Hi My name is Tolani\")"
   ]
  }
 ],
 "metadata": {
  "language_info": {
   "name": "python"
  }
 },
 "nbformat": 4,
 "nbformat_minor": 2
}
