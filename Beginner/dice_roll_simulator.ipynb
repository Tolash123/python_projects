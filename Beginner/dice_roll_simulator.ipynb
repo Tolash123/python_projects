{
 "cells": [
  {
   "cell_type": "markdown",
   "metadata": {},
   "source": [
    "# Dice Roll Simulator\n",
    "\n",
    "'''\n",
    "The Dice Roll Simulation can be done by choosing a random integer between 1 and 6 for which we can use the random module in the Python programming language.\n",
    "'''\n"
   ]
  },
  {
   "cell_type": "code",
   "execution_count": null,
   "metadata": {},
   "outputs": [],
   "source": [
    "import random\n",
    "\n",
    "#range of the values of a dice\n",
    "min_val = 1\n",
    "max_val = 6\n",
    "\n",
    "#to loop the rolling through user input\n",
    "roll_again = \"yes\"\n",
    "\n",
    "#loop\n",
    "while roll_again == \"yes\" or roll_again == \"y\":\n",
    "    print(\"Rolling The Dices...\")\n",
    "    print(\"The Values are :\")\n",
    "    \n",
    "    #generating and printing 1st random integer from 1 to 6\n",
    "    print(random.randint(min_val, max_val))\n",
    "    \n",
    "    #generating and printing 2nd random integer from 1 to 6\n",
    "    print(random.randint(min_val, max_val))\n",
    "    \n",
    "    #asking user to roll the dice again. Any input other than yes or y will terminate the loop\n",
    "    roll_again = input(\"Roll the Dices Again?\") "
   ]
  }
 ],
 "metadata": {
  "language_info": {
   "name": "python"
  }
 },
 "nbformat": 4,
 "nbformat_minor": 2
}
