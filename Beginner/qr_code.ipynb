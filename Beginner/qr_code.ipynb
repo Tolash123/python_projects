{
 "cells": [
  {
   "cell_type": "markdown",
   "metadata": {},
   "source": [
    "# QR Code\n",
    "\n",
    "'''\n",
    "QR codes are used to encode and decode the data into a machine-readable form. The use of camera phones to read two-dimensional barcodes for various purposes is currently a popular topic in both types of research and practical applications. \n",
    "'''\n",
    "i"
   ]
  },
  {
   "cell_type": "code",
   "execution_count": null,
   "metadata": {},
   "outputs": [],
   "source": [
    "import pyqrcode \n",
    "from pyqrcode import QRCode \n",
    "  \n",
    "# String which represent the QR code \n",
    "s = \"https://www.youtube.com/channel/UCeO9hPCfRzqb2yTuAn713Mg\"\n",
    "  \n",
    "# Generate QR code \n",
    "url = pyqrcode.create(s) \n",
    "  \n",
    "# Create and save the png file naming \"myqr.png\" \n",
    "url.svg(\"myyoutube.svg\", scale = 8) "
   ]
  }
 ],
 "metadata": {
  "language_info": {
   "name": "python"
  }
 },
 "nbformat": 4,
 "nbformat_minor": 2
}
